{
 "cells": [
  {
   "cell_type": "code",
   "execution_count": 4,
   "metadata": {},
   "outputs": [],
   "source": [
    "import Levenshtein"
   ]
  },
  {
   "cell_type": "code",
   "execution_count": 7,
   "metadata": {},
   "outputs": [],
   "source": [
    "def Edit_distance_str(str1,str2):\n",
    "    edit_distance = Levenshtein.distance(str1,str2)\n",
    "    similarity = 1-(edit_distance/max(len(str1),len(str2)))\n",
    "    return {'distance':edit_distance,'similarity':similarity}"
   ]
  },
  {
   "cell_type": "code",
   "execution_count": 8,
   "metadata": {},
   "outputs": [],
   "source": [
    "a = Edit_distance_str('asdfgh','asdfgj')"
   ]
  },
  {
   "cell_type": "code",
   "execution_count": 9,
   "metadata": {},
   "outputs": [
    {
     "data": {
      "text/plain": [
       "{'distance': 1, 'similarity': 0.8333333333333334}"
      ]
     },
     "execution_count": 9,
     "metadata": {},
     "output_type": "execute_result"
    }
   ],
   "source": [
    "a"
   ]
  },
  {
   "cell_type": "code",
   "execution_count": 10,
   "metadata": {},
   "outputs": [
    {
     "data": {
      "text/plain": [
       "'\\n计算相似度，前提是：将文本转化为向量\\n使用jieba分词，词袋模型，tf-idf模型\\n'"
      ]
     },
     "execution_count": 10,
     "metadata": {},
     "output_type": "execute_result"
    }
   ],
   "source": [
    "'''\n",
    "计算相似度，前提是：将文本转化为向量\n",
    "使用jieba分词，词袋模型，tf-idf模型，LSI模型 \n",
    "'''"
   ]
  },
  {
   "cell_type": "code",
   "execution_count": 15,
   "metadata": {},
   "outputs": [],
   "source": [
    "import jieba.posseg as pseg\n",
    "import codecs\n",
    "from gensim import corpora,models,similarities"
   ]
  },
  {
   "cell_type": "code",
   "execution_count": 41,
   "metadata": {},
   "outputs": [
    {
     "name": "stdout",
     "output_type": "stream",
     "text": [
      "<generator object cut at 0x1a1fbdd048>\n",
      "<generator object cut at 0x1a1fbdd0c0>\n",
      "<generator object cut at 0x1a1fbdd0c0>\n",
      "[['高血压', 'hypertension', '是', '指以', '体循环', '动脉', '血压', '收缩压', '舒张压', '增高', '主要', '特征', '收缩压', '毫米汞柱', '舒张压', '毫米汞柱', '可', '伴有', '心', '脑', '肾', '器官', '功能', '器质性', '损害', '临床', '综合征', '高血压', '是', '常见', '慢性病', '是', '心脑血管病', '主要', '危险', '因素', '正常人', '血压', '随', '内外', '环境', '变化', '范围', '内', '波动', '整体', '人群', '血压', '水平', '随', '年龄', '升高', '收缩压', '明显', '舒张压', '呈现', '下降', '趋势', '脉压', '加大', '人们', '心血管病', '危险', '因素', '作用', '心', '脑', '肾', '器官', '保护', '认识', '不断深入', '高血压', '诊断', '标准', '调整', '认为', '同一', '血压', '水平', '患者', '发生', '心血管病', '危险', '不同', '有', '了', '血压', '分层', '概念', '即', '发生', '心血管病', '危险度', '不同', '患者', '适宜', '血压', '水平', '应有', '不同', '血压', '值', '危险', '因素', '评估', '是', '诊断', '制定', '高血压', '治疗', '方案', '主要', '不同', '患者', '高血压', '管理', '目标', '不同', '医生', '面对', '患者', '时', '参考', '标准', '基础', '具体情况', '判断', '患者', '最合适', '血压', '范围', '采用', '针对性', '治疗', '措施', '改善生活', '方式', '基础', '推荐', '使用', '小时', '长效', '降压', '药物', '控制', '血压', '评估', '诊室', '血压', '患者', '应', '注意', '家庭', '血压', '监测', '管理', '控制', '血压', '降低', '心脑血管', '事件', '发生率'], ['低血压', '是', '指', '体循环', '动脉', '压力', '低于正常', '状态', '高血压', '临床', '引起', '心', '脑', '肾', '重要', '脏器', '损害', '备受', '重视', '世界卫生组织', '高血压', '诊断', '标准', '有', '明确规定', '低血压', '诊断', '尚无', '统一标准', '一般', '认为', '成年人', '上肢', '动脉血', '压低', 'kPa', 'mmHg', '即', '低血压', '病因', '可', '分为', '生理性', '病理性', '低血压', '起病', '形式', '可', '分为', '急性', '慢性', '低血压'], ['篮球运动', '是', '美国', '人', '詹姆斯', '奈', '史密斯', '发明', '马萨诸塞州', '斯普林菲尔德', '基督教', '青年会', '国际', '训练', '学校', '任教', '当地', '盛产', '桃子', '儿童', '喜欢', '做', '用球', '投入', '桃子', '筐', '游戏', '使', '得到', '启发', '博采', '足球', '曲棍球', '球类', '项目', '特点', '创编', '了', '篮球', '游戏']]\n"
     ]
    }
   ],
   "source": [
    "#构建停用词表\n",
    "def stopwords_list(filepath):\n",
    "    stop_words_file = filepath\n",
    "    stopwords = codecs.open(stop_words_file,'r',encoding='utf8').readlines()\n",
    "    stopwords_list = [words.strip() for words in stopwords]\n",
    "    stop_flag = ['x', 'c', 'u','d', 'p', 't', 'uj', 'm', 'f', 'r']\n",
    "    return stopwords_list,stop_flag\n",
    "\n",
    "#对一篇文章，或者句子分词、去停用词\n",
    "def tokenization(filename):\n",
    "    res = []\n",
    "    with open(filename,'r') as f:\n",
    "        text = f.read()\n",
    "        words = pseg.cut(text)\n",
    "    stopwordslist,stop_flag = stopwords_list('/Users/taoxudong/huli/test/stop_words.txt')\n",
    "    #分词特性？中文对应着stop_flag的含义。？？？？？？\n",
    "    for word,flag in words:\n",
    "        if word not in stopwordslist and flag not in stop_flag:\n",
    "            if word != '\\t':\n",
    "                res.append(word)\n",
    "    return res\n",
    "\n",
    "#加载要处理的文本，进行分词\n",
    "filenames = ['/Users/taoxudong/huli/test/高血压.txt',\n",
    "            '/Users/taoxudong/huli/test/低血压.txt',\n",
    "            '/Users/taoxudong/huli/test/篮球.txt']\n",
    "\n",
    "corpus = []\n",
    "for each in filenames:\n",
    "    corpus.append(tokenization(each))\n",
    "#建立词袋模型，生成字典和向量语料\n",
    "print(corpus)\n",
    "dictionary = corpora.Dictionary(corpus)\n",
    "doc_vectors = [dictionary.doc2bow(text) for text in corpus]"
   ]
  },
  {
   "cell_type": "code",
   "execution_count": 38,
   "metadata": {},
   "outputs": [
    {
     "name": "stdout",
     "output_type": "stream",
     "text": [
      "3\n",
      "['一般来说', '高血压', '属于', '慢性病', '患者', '需要', '药物', '治疗', '有效', '控制', '血压', '到', '目标', '水平', '一般来说', '要求', '血压', '低于', 'mmHg', '减少', '心脑血管', '事件', '如', '防止', '卒', '冠心病', '心力衰竭', '肾病', '发生', '进展', '有效', '降低', '死亡', '风险']\n",
      "[(0, 0.5735908), (1, 0.054820858), (2, 0.0)]\n"
     ]
    }
   ],
   "source": [
    "#建立tf-idf模型\n",
    "tfidf = models.TfidfModel(doc_vectors)\n",
    "tfidf_vectors = tfidf[doc_vectors]\n",
    "#len(tfidf_vectors) = 文本数  len(tfidf_vectors[0] == 第一个文本中的词数量)\n",
    "print(len(tfidf_vectors))\n",
    "query = tokenization('/Users/taoxudong/huli/test/血压类的.txt')\n",
    "print(query)\n",
    "query_bow = dictionary.doc2bow(query)\n",
    "index = similarities.MatrixSimilarity(tfidf_vectors)\n",
    "sims = index[query_bow]\n",
    "print(list(enumerate(sims)))"
   ]
  },
  {
   "cell_type": "code",
   "execution_count": 39,
   "metadata": {},
   "outputs": [
    {
     "name": "stdout",
     "output_type": "stream",
     "text": [
      "['一般来说', '高血压', '属于', '慢性病', '患者', '需要', '药物', '治疗', '有效', '控制', '血压', '到', '目标', '水平', '一般来说', '要求', '血压', '低于', 'mmHg', '减少', '心脑血管', '事件', '如', '防止', '卒', '冠心病', '心力衰竭', '肾病', '发生', '进展', '有效', '降低', '死亡', '风险']\n",
      "[(0, 0.9999886), (1, 0.998825), (2, 0.022608727)]\n"
     ]
    }
   ],
   "source": [
    "#构建LSI模型，设置主题数（类数）\n",
    "lsi = models.LsiModel(tfidf_vectors,id2word = dictionary,num_topics=2)\n",
    "lsi_vector = lsi[tfidf_vectors]\n",
    "#LSI向量空间中，所有文本的向量都是二维的\n",
    "query = tokenization('/Users/taoxudong/huli/test/血压类的.txt')\n",
    "query_bow = dictionary.doc2bow(query)\n",
    "query_lsi = lsi[query_bow]\n",
    "print(query)\n",
    "index = similarities.MatrixSimilarity(lsi_vector)\n",
    "sims = index[query_lsi]\n",
    "print(list(enumerate(sims)))"
   ]
  },
  {
   "cell_type": "code",
   "execution_count": null,
   "metadata": {},
   "outputs": [],
   "source": []
  }
 ],
 "metadata": {
  "kernelspec": {
   "display_name": "Python 3",
   "language": "python",
   "name": "python3"
  },
  "language_info": {
   "codemirror_mode": {
    "name": "ipython",
    "version": 3
   },
   "file_extension": ".py",
   "mimetype": "text/x-python",
   "name": "python",
   "nbconvert_exporter": "python",
   "pygments_lexer": "ipython3",
   "version": "3.7.1"
  }
 },
 "nbformat": 4,
 "nbformat_minor": 2
}
