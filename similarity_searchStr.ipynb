{
 "cells": [
  {
   "cell_type": "code",
   "execution_count": 54,
   "metadata": {},
   "outputs": [],
   "source": [
    "import jieba.posseg as pseg\n",
    "import codecs\n",
    "from gensim import corpora,models,similarities\n",
    "import pandas as pd\n",
    "import numpy as np"
   ]
  },
  {
   "cell_type": "code",
   "execution_count": 143,
   "metadata": {},
   "outputs": [],
   "source": [
    "#构建停用词表\n",
    "#def stopwords_list(stopwords):\n",
    " #   stopwords_list = [words.strip() for words in stopwords]\n",
    "  #  stop_flag = ['x', 'c', 'u','d', 'p', 't', 'uj', 'm', 'f', 'r']\n",
    "   # return stopwords_list,stop_flag\n",
    "\n",
    "#对句子分词、去停用词\n",
    "def tokenization(str_text):\n",
    "    res = []\n",
    "    words = pseg.cut(str_text)\n",
    "    #分词\n",
    "    stopwords = ['啊','的','得']\n",
    "    stopwords_list = [words.strip() for words in stopwords]\n",
    "    stop_flag = ['x', 'c', 'u','d', 'p', 't', 'uj', 'm', 'f', 'r']\n",
    "    #stopwordslist,stop_flag = stopwords_list('/Users/taoxudong/huli/test/stop_words.txt')\n",
    "    #分词特性？中文对应着stop_flag的含义。？？？？？？\n",
    "    for word,flag in words:\n",
    "        if word not in stopwords_list and flag not in stop_flag:\n",
    "            if word != '\\t':\n",
    "                res.append(word)\n",
    "    return res"
   ]
  },
  {
   "cell_type": "code",
   "execution_count": 187,
   "metadata": {},
   "outputs": [],
   "source": [
    "def similarity_searchStr(search_str,get_search_list):\n",
    "    str_list = get_search_list\n",
    "    corpus = []\n",
    "    for each in str_list:\n",
    "        corpus.append(tokenization(each['title']))\n",
    "    #建立词袋模型，生成字典和向量语料\n",
    "    #print(corpus)\n",
    "    dictionary = corpora.Dictionary(corpus)\n",
    "    doc_vectors = [dictionary.doc2bow(text) for text in corpus]\n",
    "    \n",
    "    #建立tf-idf模型\n",
    "    tfidf = models.TfidfModel(doc_vectors)\n",
    "    tfidf_vectors = tfidf[doc_vectors]\n",
    "    #len(tfidf_vectors) = 文本数  len(tfidf_vectors[0] == 第一个文本中的词数量)\n",
    "    #print(len(tfidf_vectors))\n",
    "    query = tokenization(search_str)\n",
    "    #print(query)\n",
    "    query_bow = dictionary.doc2bow(query)\n",
    "    index = similarities.MatrixSimilarity(tfidf_vectors)\n",
    "    sims = index[query_bow]\n",
    "    #print(list(enumerate(sims)))\n",
    "    max_index = list(sims).index(max(sims))\n",
    "    #res = []\n",
    "    res_dict = {}\n",
    "    res_dict.update(search_str = search_str)\n",
    "    if max(sims) == 0:\n",
    "        res_dict.update(url = None)\n",
    "    else:\n",
    "        res_dict.update(url = get_search_list[max_index]['url'])\n",
    "        #res.append(get_search_list[max_index]['title'])\n",
    "        #res.append(get_search_list[max_index]['url'])\n",
    "    return res_dict"
   ]
  },
  {
   "cell_type": "code",
   "execution_count": 188,
   "metadata": {},
   "outputs": [],
   "source": [
    "get_search_list = [{'title': '北大方正软件技术学院', 'url': 'https://baike.baidu.com/item/%E5%8C%97%E5%A4%A7%E6%96%B9%E6%AD%A3%E8%BD%AF%E4%BB%B6%E6%8A%80%E6%9C%AF%E5%AD%A6%E9%99%A2/8593474'}, {'title': '刘海涛(北京北大方正软件技术学院财经分院会计讲师)', 'url': 'https://baike.baidu.com/item/%E5%88%98%E6%B5%B7%E6%B6%9B/20178624'}, {'title': '黄根隆', 'url': 'https://baike.baidu.com/item/%E9%BB%84%E6%A0%B9%E9%9A%86'}, {'title': '民办高校', 'url': 'https://baike.baidu.com/item/%E6%B0%91%E5%8A%9E%E9%AB%98%E6%A0%A1/809739'}, {'title': '全国大学生公益社团联盟', 'url': 'https://baike.baidu.com/item/%E5%85%A8%E5%9B%BD%E5%A4%A7%E5%AD%A6%E7%94%9F%E5%85%AC%E7%9B%8A%E7%A4%BE%E5%9B%A2%E8%81%94%E7%9B%9F'}, {'title': '动漫设计与制作专业', 'url': 'https://baike.baidu.com/item/%E5%8A%A8%E6%BC%AB%E8%AE%BE%E8%AE%A1%E4%B8%8E%E5%88%B6%E4%BD%9C%E4%B8%93%E4%B8%9A/6504338'}, {'title': '全国民办普通高等学校', 'url': 'https://baike.baidu.com/item/%E5%85%A8%E5%9B%BD%E6%B0%91%E5%8A%9E%E6%99%AE%E9%80%9A%E9%AB%98%E7%AD%89%E5%AD%A6%E6%A0%A1/12778312'}, {'title': '三校高职类', 'url': 'https://baike.baidu.com/item/%E4%B8%89%E6%A0%A1%E9%AB%98%E8%81%8C%E7%B1%BB/7898123'}]"
   ]
  },
  {
   "cell_type": "code",
   "execution_count": 189,
   "metadata": {},
   "outputs": [],
   "source": [
    "search_str = '北京北大方正软件职业技术学院'"
   ]
  },
  {
   "cell_type": "code",
   "execution_count": 190,
   "metadata": {},
   "outputs": [],
   "source": [
    "a = '鄂城钢铁厂职工大学'"
   ]
  },
  {
   "cell_type": "code",
   "execution_count": 191,
   "metadata": {},
   "outputs": [],
   "source": [
    "b = [{'title': '成人高校(成人高等学校)', 'url': 'https://baike.baidu.com/item/%E6%88%90%E4%BA%BA%E9%AB%98%E6%A0%A1/141665'}, {'title': '中国成人院校', 'url': 'https://baike.baidu.com/item/%E4%B8%AD%E5%9B%BD%E6%88%90%E4%BA%BA%E9%99%A2%E6%A0%A1'}, {'title': '全国成人高等学校', 'url': 'https://baike.baidu.com/item/%E5%85%A8%E5%9B%BD%E6%88%90%E4%BA%BA%E9%AB%98%E7%AD%89%E5%AD%A6%E6%A0%A1/12763624'}, {'title': '成人高等学校', 'url': 'https://baike.baidu.com/item/%E6%88%90%E4%BA%BA%E9%AB%98%E7%AD%89%E5%AD%A6%E6%A0%A1/3459368'}, {'title': '陈敏(深圳市龙岗区建设局(住宅局)局长)', 'url': 'https://baike.baidu.com/item/%E9%99%88%E6%95%8F/7323165'}, {'title': '百科教育与科学研究组维护词条列表(湖北学校篇)', 'url': 'https://baike.baidu.com/item/%E7%99%BE%E7%A7%91%E6%95%99%E8%82%B2%E4%B8%8E%E7%A7%91%E5%AD%A6%E7%A0%94%E7%A9%B6%E7%BB%84%E7%BB%B4%E6%8A%A4%E8%AF%8D%E6%9D%A1%E5%88%97%E8%A1%A8%EF%BC%88%E6%B9%96%E5%8C%97%E5%AD%A6%E6%A0%A1%E7%AF%87%EF%BC%89'}]"
   ]
  },
  {
   "cell_type": "code",
   "execution_count": 192,
   "metadata": {},
   "outputs": [],
   "source": [
    "res_titile1 = similarity_searchStr(a,b)"
   ]
  },
  {
   "cell_type": "code",
   "execution_count": 193,
   "metadata": {},
   "outputs": [
    {
     "data": {
      "text/plain": [
       "{'search_str': '鄂城钢铁厂职工大学', 'url': None}"
      ]
     },
     "execution_count": 193,
     "metadata": {},
     "output_type": "execute_result"
    }
   ],
   "source": [
    "res_titile1"
   ]
  },
  {
   "cell_type": "code",
   "execution_count": 194,
   "metadata": {},
   "outputs": [
    {
     "data": {
      "text/plain": [
       "'https://baike.baidu.com/item/%E6%88%90%E4%BA%BA%E9%AB%98%E6%A0%A1/141665'"
      ]
     },
     "execution_count": 194,
     "metadata": {},
     "output_type": "execute_result"
    }
   ],
   "source": [
    "res_url1"
   ]
  },
  {
   "cell_type": "code",
   "execution_count": 195,
   "metadata": {},
   "outputs": [],
   "source": [
    "res_titile = similarity_searchStr(search_str,get_search_list)"
   ]
  },
  {
   "cell_type": "code",
   "execution_count": 196,
   "metadata": {},
   "outputs": [
    {
     "data": {
      "text/plain": [
       "{'search_str': '北京北大方正软件职业技术学院',\n",
       " 'url': 'https://baike.baidu.com/item/%E5%8C%97%E5%A4%A7%E6%96%B9%E6%AD%A3%E8%BD%AF%E4%BB%B6%E6%8A%80%E6%9C%AF%E5%AD%A6%E9%99%A2/8593474'}"
      ]
     },
     "execution_count": 196,
     "metadata": {},
     "output_type": "execute_result"
    }
   ],
   "source": [
    "res_titile"
   ]
  },
  {
   "cell_type": "code",
   "execution_count": null,
   "metadata": {},
   "outputs": [],
   "source": []
  }
 ],
 "metadata": {
  "kernelspec": {
   "display_name": "Python 3",
   "language": "python",
   "name": "python3"
  },
  "language_info": {
   "codemirror_mode": {
    "name": "ipython",
    "version": 3
   },
   "file_extension": ".py",
   "mimetype": "text/x-python",
   "name": "python",
   "nbconvert_exporter": "python",
   "pygments_lexer": "ipython3",
   "version": "3.7.1"
  }
 },
 "nbformat": 4,
 "nbformat_minor": 2
}
